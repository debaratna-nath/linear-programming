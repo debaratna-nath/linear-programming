{
 "cells": [
  {
   "cell_type": "markdown",
   "metadata": {},
   "source": [
    "### Importing the Libaries"
   ]
  },
  {
   "cell_type": "code",
   "execution_count": 1,
   "metadata": {},
   "outputs": [],
   "source": [
    "import numpy as np\n",
    "import pandas as pd\n",
    "from pulp import *\n",
    "import math\n",
    "import itertools\n",
    "import pymorton"
   ]
  },
  {
   "cell_type": "markdown",
   "metadata": {},
   "source": [
    "### Defining the Data"
   ]
  },
  {
   "cell_type": "code",
   "execution_count": 2,
   "metadata": {},
   "outputs": [],
   "source": [
    "def define_data():\n",
    "    df = {}\n",
    "    \n",
    "    df['weight'] = [200] *2 + [80] * 20 + [50] * 15 + [30] * 12 + [25] * 20\n",
    "    df['boxes'] = [i for i in range(len(df['weight']))]\n",
    "    \n",
    "    df['length'] = [30] *2 + [15] * 20 + [10] * 15 + [8] * 12 + [5] * 20\n",
    "    df['breadth'] = [25]*2 + [15] * 20 + [10] * 15 + [8] * 12 + [5] * 20\n",
    "    df['height'] = [25] * 2 + [15] * 20 + [10] * 15 + [8] * 12 + [5] * 20\n",
    "    df['volume'] = list(np.array(df['length']) * np.array(df['breadth']) * np.array(df['height']))\n",
    "#     df['truck_weight'] = 1000\n",
    "    df['total_truck_fleet'] = [i for i in range(len(df['weight']))]\n",
    "    return df"
   ]
  },
  {
   "cell_type": "code",
   "execution_count": 3,
   "metadata": {},
   "outputs": [
    {
     "data": {
      "text/html": [
       "<div>\n",
       "<style scoped>\n",
       "    .dataframe tbody tr th:only-of-type {\n",
       "        vertical-align: middle;\n",
       "    }\n",
       "\n",
       "    .dataframe tbody tr th {\n",
       "        vertical-align: top;\n",
       "    }\n",
       "\n",
       "    .dataframe thead th {\n",
       "        text-align: right;\n",
       "    }\n",
       "</style>\n",
       "<table border=\"1\" class=\"dataframe\">\n",
       "  <thead>\n",
       "    <tr style=\"text-align: right;\">\n",
       "      <th></th>\n",
       "      <th>weight</th>\n",
       "      <th>boxes</th>\n",
       "      <th>length</th>\n",
       "      <th>breadth</th>\n",
       "      <th>height</th>\n",
       "      <th>volume</th>\n",
       "      <th>total_truck_fleet</th>\n",
       "    </tr>\n",
       "  </thead>\n",
       "  <tbody>\n",
       "    <tr>\n",
       "      <th>0</th>\n",
       "      <td>200</td>\n",
       "      <td>0</td>\n",
       "      <td>30</td>\n",
       "      <td>25</td>\n",
       "      <td>25</td>\n",
       "      <td>18750</td>\n",
       "      <td>0</td>\n",
       "    </tr>\n",
       "    <tr>\n",
       "      <th>1</th>\n",
       "      <td>200</td>\n",
       "      <td>1</td>\n",
       "      <td>30</td>\n",
       "      <td>25</td>\n",
       "      <td>25</td>\n",
       "      <td>18750</td>\n",
       "      <td>1</td>\n",
       "    </tr>\n",
       "    <tr>\n",
       "      <th>2</th>\n",
       "      <td>80</td>\n",
       "      <td>2</td>\n",
       "      <td>15</td>\n",
       "      <td>15</td>\n",
       "      <td>15</td>\n",
       "      <td>3375</td>\n",
       "      <td>2</td>\n",
       "    </tr>\n",
       "    <tr>\n",
       "      <th>3</th>\n",
       "      <td>80</td>\n",
       "      <td>3</td>\n",
       "      <td>15</td>\n",
       "      <td>15</td>\n",
       "      <td>15</td>\n",
       "      <td>3375</td>\n",
       "      <td>3</td>\n",
       "    </tr>\n",
       "    <tr>\n",
       "      <th>4</th>\n",
       "      <td>80</td>\n",
       "      <td>4</td>\n",
       "      <td>15</td>\n",
       "      <td>15</td>\n",
       "      <td>15</td>\n",
       "      <td>3375</td>\n",
       "      <td>4</td>\n",
       "    </tr>\n",
       "  </tbody>\n",
       "</table>\n",
       "</div>"
      ],
      "text/plain": [
       "   weight  boxes  length  breadth  height  volume  total_truck_fleet\n",
       "0     200      0      30       25      25   18750                  0\n",
       "1     200      1      30       25      25   18750                  1\n",
       "2      80      2      15       15      15    3375                  2\n",
       "3      80      3      15       15      15    3375                  3\n",
       "4      80      4      15       15      15    3375                  4"
      ]
     },
     "execution_count": 3,
     "metadata": {},
     "output_type": "execute_result"
    }
   ],
   "source": [
    "data = define_data()\n",
    "pd.DataFrame(data).head()"
   ]
  },
  {
   "cell_type": "code",
   "execution_count": 158,
   "metadata": {},
   "outputs": [],
   "source": [
    "df = pd.DataFrame()\n",
    "df['weight'] =[150, 150]\n",
    "df['boxes'] = [0, 1]\n",
    "\n",
    "df['length'] = [200, 200]\n",
    "df['breadth'] = [150, 150]\n",
    "df['height'] = [60, 55]\n",
    "df['volume'] = list(np.array(df['length']) * np.array(df['breadth']) * np.array(df['height']))\n",
    "#     df['truck_weight'] = 1000\n",
    "df['total_truck_fleet'] = [i for i in range(len(df['weight']))]"
   ]
  },
  {
   "cell_type": "code",
   "execution_count": 159,
   "metadata": {},
   "outputs": [
    {
     "data": {
      "text/html": [
       "<div>\n",
       "<style scoped>\n",
       "    .dataframe tbody tr th:only-of-type {\n",
       "        vertical-align: middle;\n",
       "    }\n",
       "\n",
       "    .dataframe tbody tr th {\n",
       "        vertical-align: top;\n",
       "    }\n",
       "\n",
       "    .dataframe thead th {\n",
       "        text-align: right;\n",
       "    }\n",
       "</style>\n",
       "<table border=\"1\" class=\"dataframe\">\n",
       "  <thead>\n",
       "    <tr style=\"text-align: right;\">\n",
       "      <th></th>\n",
       "      <th>weight</th>\n",
       "      <th>boxes</th>\n",
       "      <th>length</th>\n",
       "      <th>breadth</th>\n",
       "      <th>height</th>\n",
       "      <th>volume</th>\n",
       "      <th>total_truck_fleet</th>\n",
       "    </tr>\n",
       "  </thead>\n",
       "  <tbody>\n",
       "    <tr>\n",
       "      <th>0</th>\n",
       "      <td>150</td>\n",
       "      <td>0</td>\n",
       "      <td>200</td>\n",
       "      <td>150</td>\n",
       "      <td>60</td>\n",
       "      <td>1800000</td>\n",
       "      <td>0</td>\n",
       "    </tr>\n",
       "    <tr>\n",
       "      <th>1</th>\n",
       "      <td>150</td>\n",
       "      <td>1</td>\n",
       "      <td>200</td>\n",
       "      <td>150</td>\n",
       "      <td>55</td>\n",
       "      <td>1650000</td>\n",
       "      <td>1</td>\n",
       "    </tr>\n",
       "  </tbody>\n",
       "</table>\n",
       "</div>"
      ],
      "text/plain": [
       "   weight  boxes  length  breadth  height   volume  total_truck_fleet\n",
       "0     150      0     200      150      60  1800000                  0\n",
       "1     150      1     200      150      55  1650000                  1"
      ]
     },
     "execution_count": 159,
     "metadata": {},
     "output_type": "execute_result"
    }
   ],
   "source": [
    "data = df.copy()\n",
    "data"
   ]
  },
  {
   "cell_type": "code",
   "execution_count": 160,
   "metadata": {
    "jupyter": {
     "source_hidden": true
    },
    "tags": []
   },
   "outputs": [],
   "source": [
    "class OptimiseBoxLoading:\n",
    "    def __init__(self, box_info_path, truck_info_path):\n",
    "        self.df_boxes = pd.read_csv(box_info_path)\n",
    "        self.df_truck = pd.read_csv(truck_info_path)\n",
    "        \n",
    "    def define_truck_info(self):\n",
    "        length_of_truck = self.df_truck['truck_length'].iloc[0]\n",
    "        width_of_truck = self.df_truck['truck_width'].iloc[0]\n",
    "        height_of_truck = self.df_truck['truck_height'].iloc[0]\n",
    "        volume_of_truck = self.df_truck['truck_capacity'].iloc[0]\n",
    "        weight_of_truck = self.df_truck['truck_weight_limit'].iloc[0]\n",
    "\n",
    "        min_height = self.df_boxes['H'].min()\n",
    "        min_width = self.df_boxes['W'].min()\n",
    "        min_length = self.df_boxes['L'].min()\n",
    "        \n",
    "        x_axis = math.ceil(length_of_truck / min_length)\n",
    "        y_axis = math.ceil(breadth_of_truck / min_breadth)\n",
    "        z_axis = math.ceil(height_of_truck / min_height)\n",
    "        \n",
    "        self.total_truck_fleet = self.df_boxes.shape[0]\n",
    "        \n",
    "        self.min_height = min_height\n",
    "        self.min_width = min_width\n",
    "        self.min_length = min_length\n",
    "        \n",
    "        self.volume_of_truck = volume_of_truck\n",
    "        self.weight_of_truck = weight_of_truck\n",
    "        \n",
    "        self.x_axis = x_axis\n",
    "        self.y_axis = y_axis\n",
    "        self.z_axis = z_axis\n",
    "        \n",
    "        return self\n",
    "\n",
    "        \n",
    "    \n",
    "    def define_placement_dict(self):\n",
    "        dict_truck_info = {}\n",
    "        for tr in self.total_truck_fleet:\n",
    "            for i in range(self.x_axis):\n",
    "                for j in range(self.y_axis):\n",
    "                    for k in range(self.z_axis):\n",
    "                        dict_truck_info[(tr, i, j ,k)] = {'box_loaded': LpVariable(\"loaded\", 0, 1, cat = 'Binary'),\n",
    "                                                         'length_loaded': LpVariable(\"length\", 0, self.length_of_truck, cat = 'Continuous'),\n",
    "                                                         'breadth_loaded': LpVariable(\"breadth\", 0, self.breadth_of_truck, cat = 'Continuous'),\n",
    "                                                         'height_loaded': LpVariable(\"height\", 0, self.height_of_truck, cat = 'Continuous'),\n",
    "                                                         'volume_loaded': LpVariable(\"volume\", 0, self.volume_of_truck, cat = 'Continuous'),\n",
    "                                                         'surface_area': LpVariable(f\"{tr}_surface_area_{(i, j, k)}\", 0, \n",
    "                                                                                    self.length_of_truck * self.height_of_truck, \n",
    "                                                                                    cat = 'Continuous')}\n",
    "        return dict_truck_info\n",
    "    \n",
    "    def dict_update(self, dict_truck_info, truck_num, boxes_data, box_num, axes, dimensions, update_dimensions):\n",
    "        x_ax = axes[0]\n",
    "        y_ax = axes[1]\n",
    "        z_ax = axes[2]\n",
    "\n",
    "        remaining_length = dimensions[0]\n",
    "        remaining_breadth = dimensions[1]\n",
    "        remaining_height = dimensions[2]\n",
    "\n",
    "        dict_truck_info[(truck_num, x_ax, y_ax, z_ax)]['box_loaded'] = 1\n",
    "        dict_truck_info[(truck_num, x_ax, y_ax, z_ax)]['length_loaded'] = data['length'][box_num]\n",
    "        dict_truck_info[(truck_num, x_ax, y_ax, z_ax)]['breadth_loaded'] = data['breadth'][box_num]\n",
    "        dict_truck_info[(truck_num, x_ax, y_ax, z_ax)]['heigth_loaded'] = data['height'][box_num]\n",
    "\n",
    "        dict_truck_info[(truck_num, x_ax, y_ax, z_ax)]['surface_area'] = data['height'][box_num] * data['length'][box_num]\n",
    "\n",
    "        if update_dimensions[0] is True:\n",
    "            remaining_length -= dict_truck_info[(truck_num, x_ax, y_ax, z_ax)]['length_loaded']\n",
    "\n",
    "        if update_dimensions[1] is True:\n",
    "            remaining_breadth -= dict_truck_info[(truck_num, x_ax, y_ax, z_ax)]['breadth_loaded']\n",
    "\n",
    "        if update_dimensions[2] is True:\n",
    "            remaining_height -= dict_truck_info[(truck_num, x_ax, y_ax, z_ax)]['height_loaded']\n",
    "\n",
    "        return dict_truck_info, remaining_length, remaining_breadth, remaining_height\n",
    "    \n",
    "    def build_function(self):\n",
    "        \n",
    "        prob = LpProblem(\"truckLoading\", LpMinimize)\n",
    "        \n",
    "        dict_truck_info = self.define_placement_dict()\n",
    "        \n",
    "        list_of_axes = [[x for x in range(self.x_axis)] , [y for y in range(self.y_axis)] , [z for z in range(self.gz_axis)]]\n",
    "        list_coordinates = list(itertools.product(*list_of_axes))\n",
    "\n",
    "\n",
    "        remaining_weight = self.weight_of_truck# - data['weight'][i]\n",
    "        remaining_volume = self.volume_of_truck # - data['vlume'][i]\n",
    "        \n",
    "        \n",
    "        boxes_loaded = LpVariable.dicts(\"AtLocation\",\n",
    "        [(i, j) for i in range(self.df_boxes.shape[0])\n",
    "        for j in self.total_truck_fleet],\n",
    "        0, 1, LpBinary)\n",
    "\n",
    "        for j in self.total_truck_fleet:\n",
    "            remaining_length = self.length_of_truck\n",
    "            remaining_breadth = self.breadth_of_truck\n",
    "            remaining_height = self.height_of_truck\n",
    "            remaining_weight = self.weight_of_truck\n",
    "            remaining_volume = self.volume_of_truck\n",
    "\n",
    "            for i in range(self.df_boxes.shaoe[0]):\n",
    "        #         if boxes_loaded[(i, j)].varValue:\n",
    "        #             if boxes_loaded[(i, j)].varValue > 0:\n",
    "                for val in list_coordinates:\n",
    "                    x_ax = val[0]; y_ax = val[1]; z_ax = val[2]\n",
    "\n",
    "                while(remaining_volume >0 and remaining_weight > 0):\n",
    "                    if x_ax >= x_axis and y_ax >= y_axis and z_ax >= z_axis:\n",
    "                        boxes_loaded[(i, j)].varValue = 0\n",
    "                        break\n",
    "                    elif x_ax >= x_axis and y_ax >= y_axis and z_ax < z_axis:\n",
    "                        x_ax = val[0]; y_ax = val[1]; z_ax += 1\n",
    "                        continue\n",
    "                    elif x_ax >= x_axis and y_ax < y_axis and z_ax < z_axis:\n",
    "                        x_ax = val[0]; y_ax += 1\n",
    "                        continue\n",
    "\n",
    "                    elif y_ax >= y_axis:\n",
    "                        x_ax = val[0]; y_ax = val[1]; z_ax += 1\n",
    "                        continue\n",
    "\n",
    "                    else:\n",
    "                        boxes_loaded[(i, j)].varValue = 0\n",
    "                        break\n",
    "\n",
    "\n",
    "                    if dict_truck_info[(j, x_ax, y_ax, z_ax)]['box_loaded'] == 1:\n",
    "                        if remaining_length >0 and remaining_breadth > 0 and remaining_height > 0:\n",
    "                            x_ax += 1\n",
    "                            continue\n",
    "                        elif remaining_length <= 0 and remaining_breadth > 0 and reamining_height > 0:\n",
    "                            x_ax = val[0]; y_ax += 1\n",
    "                            continue\n",
    "                        elif remaining_length <= 0 and remaining_breadth <= 0 and reamining_height > 0:\n",
    "                            x_ax = val[0]; y_ax = val[1]; z_ax += 1\n",
    "                            continue\n",
    "                        else:\n",
    "                            break\n",
    "\n",
    "\n",
    "                    elif dict_truck_info[(j, x_ax, y_ax, z_ax)]['box_loaded'] == 0:\n",
    "                        if remaining_length >0 and remaining_breadth > 0 and reamining_height > 0:\n",
    "                            if z_ax == 0:\n",
    "                                dict_truck_info,\\\n",
    "                                remaining_length,\\\n",
    "                                remaining_breadth,\\\n",
    "                                remaining_height = self.dict_update(dict_truck_info = dict_truck_info,\n",
    "                                                             truck_num = j,\n",
    "                                                             boxes_data = data,\n",
    "                                                             box_num = i,\n",
    "                                                             axes = [a_ax, y_ax, z_ax], \n",
    "                                                             dimensions = [remaining_length, remaining_breadth, remaining_height],\n",
    "                                                             update_dimensions = [False, True, False])\n",
    "                                boxes_loaded[(i, j)].varValue = 1\n",
    "                            else:\n",
    "                                if dict_truck_info[(j, x_ax, y_ax, z_ax-1)]['volume_loaded'] > data['volume'][i]:\n",
    "                                    dict_truck_info,\\\n",
    "                                    remaining_length,\\\n",
    "                                    remaining_breadth,\\\n",
    "                                    remaining_height = self.dict_update(dict_truck_info = dict_truck_info,\n",
    "                                                                 truck_num = j,\n",
    "                                                                 boxes_data = data,\n",
    "                                                                 box_num = i,\n",
    "                                                                 axes = [a_ax, y_ax, z_ax], \n",
    "                                                                 dimensions = [remaining_length, remaining_breadth, remaining_height],\n",
    "                                                                 update_dimensions = [False, True, False])\n",
    "                                    boxes_loaded[(i, j)].varValue = 1\n",
    "                                else:\n",
    "                                    x_ax += 1\n",
    "                                    continue\n",
    "\n",
    "                        elif remaining_length <= 0 and remaining_breadth > 0 and reamining_height > 0:\n",
    "                            x_ax = val[0]; y_ax += 1\n",
    "                            continue\n",
    "                        elif remaining_length <= 0 and remaining_breadth <= 0 and reamining_height > 0:\n",
    "                            x_ax = val[0]; y_ax = val[1]; z_ax += 1\n",
    "                            continue\n",
    "                        else:\n",
    "                            boxes_loaded[(i, j)].varValue = 0\n",
    "                            break\n",
    "        \n",
    "        y = [LpVariable(\"t{0}\".format(i+1), cat=LpBinary) for i in data['total_truck_fleet']]\n",
    "        \n",
    "        \n",
    "        prob += lpSum([y[i] for i in data['total_truck_fleet']])\n",
    "     \n",
    "        #For each box, it can be placed in only one truck\n",
    "        for i in data['boxes']:\n",
    "            prob += lpSum(boxes_loaded[(i, j)] for j in data['total_truck_fleet']) == 1\n",
    "\n",
    "        #for each truck,\n",
    "        #    summation of weight of all boxes should be less than total weight truck can carry\n",
    "        #    summation of volume of all boxes should be less than volume of the truck\n",
    "        for j in data['total_truck_fleet']:\n",
    "            prob += lpSum(boxes_loaded[(i, j)] * data['weight'][i] for i in data['boxes']) <= weight_of_truck * y[j]\n",
    "            prob += lpSum(boxes_loaded[(i, j)] * data['volume'][i] for i in data['boxes']) <= volume_of_truck * y[j]\n",
    "\n",
    "        for truck in data['total_truck_fleet']:\n",
    "            for y_ in range(1, y_ax):\n",
    "                prob += lpSum([dict_truck_info[truck, x_, y_, z_]['surface_area'] for x_ in range(1, x_ax) for z_ in range(1, z_ax)]) <= breadth_of_truck * height_of_truck\n",
    "    \n",
    "    \n",
    "    def generate_results(self):\n",
    "        prob.solve()\n",
    "        TOL = 0.00001\n",
    "        truck_num = 0\n",
    "        total_trucks_used = 0\n",
    "        for j in data['total_truck_fleet']:\n",
    "            if y[j].varValue > TOL:\n",
    "                total_trucks_used += 1\n",
    "        print(f\"Total Trucks Used: {total_trucks_used}\")\n",
    "        print(\"\\n\")\n",
    "        print(\"=\"* 100)\n",
    "        for j in data['total_truck_fleet']:\n",
    "\n",
    "            if y[j].varValue > TOL:\n",
    "                print(f\"Truck Number: {truck_num+1}\")\n",
    "                print(\"=\" * 100)\n",
    "                total_weight_loaded = 0\n",
    "                total_num_boxes = 0\n",
    "                total_volume_loaded = 0\n",
    "                for i in data['boxes']:\n",
    "                    if boxes_loaded[(i, j)].varValue > TOL:\n",
    "                        total_num_boxes += 1\n",
    "                        total_weight_loaded += data['weight'][i]\n",
    "                        total_volume_loaded += data['volume'][i]\n",
    "                print(f'Total Boxes Loaded: {total_num_boxes}')\n",
    "                print(f\"Total Weight Loaded: {total_weight_loaded}\")\n",
    "                print(f\"Total Volume Loaded: {total_volume_loaded}\")\n",
    "                print(\"-\" * 80)\n",
    "\n",
    "                for i in data['boxes']:\n",
    "                    if boxes_loaded[(i, j)].varValue > TOL:\n",
    "\n",
    "                        box_num = data['boxes'][i]\n",
    "                        len_ = data['length'][i]\n",
    "                        br_ = data['breadth'][i]\n",
    "                        hei_ = data['height'][i]\n",
    "                        wt_ = data['weight'][i]\n",
    "                        print(f\"\\t Box Number: {box_num}\", f\"\\t Dimensions of Box: {len_, br_, hei_}\", f\"\\t Weight of Box: {wt_}\", sep = \"\\n\")\n",
    "                        print(\"-\" * 80)\n",
    "        #         print (\"Truck \", j, \" holds \", \\\n",
    "        #         [i for i in data['boxes']\n",
    "        #         if boxes_loaded[(i, j)].varValue > TOL])\n",
    "                print(\"=\" * 100)\n",
    "                truck_num+= 1"
   ]
  },
  {
   "cell_type": "markdown",
   "metadata": {},
   "source": [
    "## New Approach"
   ]
  },
  {
   "cell_type": "markdown",
   "metadata": {},
   "source": [
    "#### Define Data"
   ]
  },
  {
   "cell_type": "code",
   "execution_count": 161,
   "metadata": {},
   "outputs": [
    {
     "data": {
      "text/html": [
       "<div>\n",
       "<style scoped>\n",
       "    .dataframe tbody tr th:only-of-type {\n",
       "        vertical-align: middle;\n",
       "    }\n",
       "\n",
       "    .dataframe tbody tr th {\n",
       "        vertical-align: top;\n",
       "    }\n",
       "\n",
       "    .dataframe thead th {\n",
       "        text-align: right;\n",
       "    }\n",
       "</style>\n",
       "<table border=\"1\" class=\"dataframe\">\n",
       "  <thead>\n",
       "    <tr style=\"text-align: right;\">\n",
       "      <th></th>\n",
       "      <th>weight</th>\n",
       "      <th>boxes</th>\n",
       "      <th>length</th>\n",
       "      <th>breadth</th>\n",
       "      <th>height</th>\n",
       "      <th>volume</th>\n",
       "      <th>total_truck_fleet</th>\n",
       "    </tr>\n",
       "  </thead>\n",
       "  <tbody>\n",
       "    <tr>\n",
       "      <th>0</th>\n",
       "      <td>150</td>\n",
       "      <td>0</td>\n",
       "      <td>200</td>\n",
       "      <td>150</td>\n",
       "      <td>60</td>\n",
       "      <td>1800000</td>\n",
       "      <td>0</td>\n",
       "    </tr>\n",
       "    <tr>\n",
       "      <th>1</th>\n",
       "      <td>150</td>\n",
       "      <td>1</td>\n",
       "      <td>200</td>\n",
       "      <td>150</td>\n",
       "      <td>55</td>\n",
       "      <td>1650000</td>\n",
       "      <td>1</td>\n",
       "    </tr>\n",
       "  </tbody>\n",
       "</table>\n",
       "</div>"
      ],
      "text/plain": [
       "   weight  boxes  length  breadth  height   volume  total_truck_fleet\n",
       "0     150      0     200      150      60  1800000                  0\n",
       "1     150      1     200      150      55  1650000                  1"
      ]
     },
     "execution_count": 161,
     "metadata": {},
     "output_type": "execute_result"
    }
   ],
   "source": [
    "data = pd.DataFrame(data)\n",
    "data = data.head(7)\n",
    "data.head()"
   ]
  },
  {
   "cell_type": "code",
   "execution_count": 162,
   "metadata": {},
   "outputs": [
    {
     "data": {
      "text/html": [
       "<div>\n",
       "<style scoped>\n",
       "    .dataframe tbody tr th:only-of-type {\n",
       "        vertical-align: middle;\n",
       "    }\n",
       "\n",
       "    .dataframe tbody tr th {\n",
       "        vertical-align: top;\n",
       "    }\n",
       "\n",
       "    .dataframe thead th {\n",
       "        text-align: right;\n",
       "    }\n",
       "</style>\n",
       "<table border=\"1\" class=\"dataframe\">\n",
       "  <thead>\n",
       "    <tr style=\"text-align: right;\">\n",
       "      <th></th>\n",
       "      <th>weight</th>\n",
       "      <th>boxes</th>\n",
       "      <th>length</th>\n",
       "      <th>breadth</th>\n",
       "      <th>height</th>\n",
       "      <th>volume</th>\n",
       "      <th>total_truck_fleet</th>\n",
       "    </tr>\n",
       "  </thead>\n",
       "  <tbody>\n",
       "    <tr>\n",
       "      <th>0</th>\n",
       "      <td>150</td>\n",
       "      <td>0</td>\n",
       "      <td>200</td>\n",
       "      <td>150</td>\n",
       "      <td>60</td>\n",
       "      <td>1800000</td>\n",
       "      <td>0</td>\n",
       "    </tr>\n",
       "    <tr>\n",
       "      <th>1</th>\n",
       "      <td>150</td>\n",
       "      <td>1</td>\n",
       "      <td>200</td>\n",
       "      <td>150</td>\n",
       "      <td>55</td>\n",
       "      <td>1650000</td>\n",
       "      <td>1</td>\n",
       "    </tr>\n",
       "  </tbody>\n",
       "</table>\n",
       "</div>"
      ],
      "text/plain": [
       "   weight  boxes  length  breadth  height   volume  total_truck_fleet\n",
       "0     150      0     200      150      60  1800000                  0\n",
       "1     150      1     200      150      55  1650000                  1"
      ]
     },
     "execution_count": 162,
     "metadata": {},
     "output_type": "execute_result"
    }
   ],
   "source": [
    "data"
   ]
  },
  {
   "cell_type": "markdown",
   "metadata": {},
   "source": [
    "### Define the Problem"
   ]
  },
  {
   "cell_type": "code",
   "execution_count": 163,
   "metadata": {},
   "outputs": [],
   "source": [
    "problem = LpProblem(\"truck_loading\", LpMinimize)"
   ]
  },
  {
   "cell_type": "markdown",
   "metadata": {},
   "source": [
    "### Define the Objective "
   ]
  },
  {
   "cell_type": "code",
   "execution_count": 164,
   "metadata": {},
   "outputs": [],
   "source": [
    "y = [LpVariable(\"t{0}\".format(i+1), cat=LpBinary) for i in data['total_truck_fleet']]"
   ]
  },
  {
   "cell_type": "code",
   "execution_count": 165,
   "metadata": {},
   "outputs": [],
   "source": [
    "problem += lpSum([y[i] for i in data['total_truck_fleet']])"
   ]
  },
  {
   "cell_type": "code",
   "execution_count": null,
   "metadata": {},
   "outputs": [],
   "source": []
  },
  {
   "cell_type": "markdown",
   "metadata": {},
   "source": [
    "### Define the Variables"
   ]
  },
  {
   "cell_type": "markdown",
   "metadata": {},
   "source": [
    "##### Define the truck dims and the axes"
   ]
  },
  {
   "cell_type": "code",
   "execution_count": 166,
   "metadata": {},
   "outputs": [],
   "source": [
    "length_of_truck = 200\n",
    "breadth_of_truck = 150\n",
    "height_of_truck = 120\n",
    "\n",
    "min_height = min(data['height'].values)\n",
    "min_breadth = min(data['breadth'].values)\n",
    "min_length = min(data['length'].values)\n",
    "volume_of_truck = length_of_truck * breadth_of_truck * height_of_truck\n",
    "weight_of_truck = 800\n",
    "x_axis = math.ceil(length_of_truck / min_length)\n",
    "y_axis = math.ceil(breadth_of_truck / min_breadth)\n",
    "z_axis = math.ceil(height_of_truck / min_height)"
   ]
  },
  {
   "cell_type": "code",
   "execution_count": 167,
   "metadata": {},
   "outputs": [],
   "source": [
    "max_weight_for_each_stack = 350"
   ]
  },
  {
   "cell_type": "code",
   "execution_count": 168,
   "metadata": {},
   "outputs": [],
   "source": [
    "list_of_axes = [[x for x in range(x_axis)] , [y for y in range(y_axis)] , [z for z in range(z_axis)]]\n",
    "list_coordinates = list(itertools.product(*list_of_axes))"
   ]
  },
  {
   "cell_type": "markdown",
   "metadata": {},
   "source": [
    "##### Dictionary Variable"
   ]
  },
  {
   "cell_type": "code",
   "execution_count": 169,
   "metadata": {},
   "outputs": [],
   "source": [
    "post_box_loaded = LpVariable.dicts(\"At_truck_location\",\n",
    "                                   [(i,j, k) for i in data['boxes']\n",
    "                                    for j in data['total_truck_fleet']\n",
    "                                    for k in [pymorton.interleave(i, j, k) for (i, j, k) in list_coordinates]],\n",
    "                                   0, 1, LpBinary)"
   ]
  },
  {
   "cell_type": "code",
   "execution_count": 170,
   "metadata": {},
   "outputs": [
    {
     "data": {
      "text/plain": [
       "12"
      ]
     },
     "execution_count": 170,
     "metadata": {},
     "output_type": "execute_result"
    }
   ],
   "source": [
    "len(post_box_loaded)"
   ]
  },
  {
   "cell_type": "markdown",
   "metadata": {},
   "source": [
    "##### Adding Constraints"
   ]
  },
  {
   "cell_type": "code",
   "execution_count": 171,
   "metadata": {},
   "outputs": [],
   "source": [
    "#For each box, it can be placed in only one truck\n",
    "\n",
    "for i in data['boxes']:\n",
    "    problem += lpSum(post_box_loaded[(i, j, k)] for j in data['total_truck_fleet']\n",
    "                 for k in [pymorton.interleave(i, j, k) for (i, j, k) in list_coordinates]) == 1"
   ]
  },
  {
   "cell_type": "code",
   "execution_count": 172,
   "metadata": {},
   "outputs": [],
   "source": [
    "#for each truck,\n",
    "#    summation of weight of all boxes should be less than total weight truck can carry\n",
    "#    summation of volume of all boxes should be less than volume of the truck\n",
    "\n",
    "\n",
    "for j in data['total_truck_fleet']:\n",
    "    problem += lpSum(post_box_loaded[(i, j, k)] * data['weight'][i] for i in data['boxes'] \n",
    "                    for k in [pymorton.interleave(i, j, k) for (i, j, k) in list_coordinates]) <= weight_of_truck * y[j]\n",
    "    problem += lpSum(post_box_loaded[(i, j, k)] * data['volume'][i] for i in data['boxes'] \n",
    "                    for k in [pymorton.interleave(i, j, k) for (i, j, k) in list_coordinates]) <= volume_of_truck * y[j]\n"
   ]
  },
  {
   "cell_type": "code",
   "execution_count": 173,
   "metadata": {},
   "outputs": [],
   "source": [
    "# # for each truck,\n",
    "# #     for each box,\n",
    "# #         it can be placed in only one position\n",
    "\n",
    "\n",
    "# for j in data['total_truck_fleet']:\n",
    "#     for i in data['boxes']:\n",
    "#         problem += lpSum(post_box_loaded[(i, j, k)] for k in [pymorton.interleave(i, j, k) for (i, j, k) in list_coordinates]) == 1"
   ]
  },
  {
   "cell_type": "code",
   "execution_count": 174,
   "metadata": {},
   "outputs": [
    {
     "ename": "SyntaxError",
     "evalue": "invalid syntax (<ipython-input-174-6efa71e514da>, line 1)",
     "output_type": "error",
     "traceback": [
      "\u001b[1;36m  File \u001b[1;32m\"<ipython-input-174-6efa71e514da>\"\u001b[1;36m, line \u001b[1;32m1\u001b[0m\n\u001b[1;33m    truck 1:\u001b[0m\n\u001b[1;37m          ^\u001b[0m\n\u001b[1;31mSyntaxError\u001b[0m\u001b[1;31m:\u001b[0m invalid syntax\n"
     ]
    }
   ],
   "source": [
    "truck 1:\n",
    "    y --- 0 to 2:\n",
    "        x --- 0 to 2:\n",
    "            for z --- 0 to 2:\n",
    "                sum(box_loaded in i,j ,k * weight of box loaded)"
   ]
  },
  {
   "cell_type": "code",
   "execution_count": 175,
   "metadata": {},
   "outputs": [],
   "source": [
    "# for each truck,\n",
    "#     for each x,y point\n",
    "#         1. sum of all boxes placed along the z axis on that point should be less than height of truck\n",
    "#         2. weight of all boxes along a stack must be less than permissible weight\n",
    "#         3. surface area of a box must be less than or equal to that of the box placed below it\n",
    "\n",
    "\n",
    "for j in data['total_truck_fleet']:\n",
    "    for y_ in range(y_axis):\n",
    "        for x_ in range(x_axis):\n",
    "            problem += lpSum(post_box_loaded[(i, j, k)] * data['height'].iloc[i] for i in data['boxes'] \n",
    "                    for k in [pymorton.interleave(x_, y_, z_) for z_ in range(z_axis)]) <= height_of_truck * y[j]\n",
    "            \n",
    "            problem += lpSum(post_box_loaded[(i, j, k)] * data['weight'].iloc[i] for i in data['boxes'] \n",
    "                    for k in [pymorton.interleave(x_, y_, z_) for z_ in range(z_axis)]) <= max_weight_for_each_stack * y[j]\n",
    "            \n",
    "# for j in data['total_truck_fleet']:\n",
    "#     for y_ in range(y_axis):\n",
    "#         for x_ in range(x_axis):\n",
    "#             problem += lpSum(post_box_loaded[(i, j, k)] * data['length'].iloc[i] * data['breadth'].iloc[i]\n",
    "#                         for i in data['boxes'] \n",
    "#                         for k in [pymorton.interleave(x_, y_, z_) for z_ in range(1, z_axis)]) <= lpSum(\n",
    "                        \n",
    "#                         post_box_loaded[(i, j, k-1)] * data['length'].iloc[i] * data['breadth'].iloc[i]\n",
    "#                         for i in data['boxes'] \n",
    "#                         for k in [pymorton.interleave(x_, y_, z_) for z_ in range(1, z_axis)])"
   ]
  },
  {
   "cell_type": "code",
   "execution_count": 176,
   "metadata": {},
   "outputs": [],
   "source": [
    "# for each truck,\n",
    "#     for each x,z point\n",
    "#         sum of all boxes placed along the y axis on that point should be less than width of truck\n",
    "\n",
    "\n",
    "for j in data['total_truck_fleet']:\n",
    "    for z_ in range(z_axis):\n",
    "        for x_ in range(x_axis):\n",
    "#             print([k for k in [pymorton.interleave(x, y, z_) for z_ in range(z_axis)]])\n",
    "            problem += lpSum(post_box_loaded[(i, j, k)] * data['breadth'].iloc[i] for i in data['boxes'] \n",
    "                    for k in [pymorton.interleave(x_, y_, z_) for y_ in range(y_axis)]) <= breadth_of_truck * y[j]"
   ]
  },
  {
   "cell_type": "code",
   "execution_count": 177,
   "metadata": {},
   "outputs": [],
   "source": [
    "# for each truck,\n",
    "#     for each y,z point\n",
    "#         sum of all boxes placed along the x axis on that point should be less than length of truck\n",
    "\n",
    "\n",
    "for j in data['total_truck_fleet']:\n",
    "    for z_ in range(z_axis):\n",
    "        for y_ in range(y_axis):\n",
    "#             print([k for k in [pymorton.interleave(x, y, z_) for z_ in range(z_axis)]])\n",
    "            problem += lpSum(post_box_loaded[(i, j, k)] * data['length'].iloc[i] for i in data['boxes'] \n",
    "                    for k in [pymorton.interleave(x_, y_, z_) for x_ in range(x_axis)]) <= length_of_truck * y[j]"
   ]
  },
  {
   "cell_type": "code",
   "execution_count": 178,
   "metadata": {},
   "outputs": [],
   "source": [
    "# for j in data['total_truck_fleet']:\n",
    "#     for y_ in range(y_axis):\n",
    "#         for x_ in range(x_axis):\n",
    "#             for z_ in range(1, z_axis):\n",
    "#                 for i in range(data['boxes'].shape[0]):\n",
    "#                     k = pymorton.interleave(x_, y_, z_)\n",
    "\n",
    "#                     problem += (post_box_loaded[(i, j, k)] * data['length'].iloc[i] * data['breadth'].iloc[i]) <= (\n",
    "#                         post_box_loaded[(i, j, k-1)] * data['length'].iloc[i] * data['breadth'].iloc[i])"
   ]
  },
  {
   "cell_type": "code",
   "execution_count": 179,
   "metadata": {},
   "outputs": [
    {
     "data": {
      "text/plain": [
       "0"
      ]
     },
     "execution_count": 179,
     "metadata": {},
     "output_type": "execute_result"
    }
   ],
   "source": [
    "x_"
   ]
  },
  {
   "cell_type": "code",
   "execution_count": 180,
   "metadata": {
    "tags": []
   },
   "outputs": [
    {
     "data": {
      "text/plain": [
       "truck_loading:\n",
       "MINIMIZE\n",
       "1*t1 + 1*t2 + 0\n",
       "SUBJECT TO\n",
       "_C1: At_truck_location_(0,_0,_0) + At_truck_location_(0,_0,_32)\n",
       " + At_truck_location_(0,_0,_4) + At_truck_location_(0,_1,_0)\n",
       " + At_truck_location_(0,_1,_32) + At_truck_location_(0,_1,_4) = 1\n",
       "\n",
       "_C2: At_truck_location_(1,_0,_0) + At_truck_location_(1,_0,_32)\n",
       " + At_truck_location_(1,_0,_4) + At_truck_location_(1,_1,_0)\n",
       " + At_truck_location_(1,_1,_32) + At_truck_location_(1,_1,_4) = 1\n",
       "\n",
       "_C3: 150 At_truck_location_(0,_0,_0) + 150 At_truck_location_(0,_0,_32)\n",
       " + 150 At_truck_location_(0,_0,_4) + 150 At_truck_location_(1,_0,_0)\n",
       " + 150 At_truck_location_(1,_0,_32) + 150 At_truck_location_(1,_0,_4) - 800 t1\n",
       " <= 0\n",
       "\n",
       "_C4: 1800000 At_truck_location_(0,_0,_0)\n",
       " + 1800000 At_truck_location_(0,_0,_32) + 1800000 At_truck_location_(0,_0,_4)\n",
       " + 1650000 At_truck_location_(1,_0,_0) + 1650000 At_truck_location_(1,_0,_32)\n",
       " + 1650000 At_truck_location_(1,_0,_4) - 3600000 t1 <= 0\n",
       "\n",
       "_C5: 150 At_truck_location_(0,_1,_0) + 150 At_truck_location_(0,_1,_32)\n",
       " + 150 At_truck_location_(0,_1,_4) + 150 At_truck_location_(1,_1,_0)\n",
       " + 150 At_truck_location_(1,_1,_32) + 150 At_truck_location_(1,_1,_4) - 800 t2\n",
       " <= 0\n",
       "\n",
       "_C6: 1800000 At_truck_location_(0,_1,_0)\n",
       " + 1800000 At_truck_location_(0,_1,_32) + 1800000 At_truck_location_(0,_1,_4)\n",
       " + 1650000 At_truck_location_(1,_1,_0) + 1650000 At_truck_location_(1,_1,_32)\n",
       " + 1650000 At_truck_location_(1,_1,_4) - 3600000 t2 <= 0\n",
       "\n",
       "_C7: 60 At_truck_location_(0,_0,_0) + 60 At_truck_location_(0,_0,_32)\n",
       " + 60 At_truck_location_(0,_0,_4) + 55 At_truck_location_(1,_0,_0)\n",
       " + 55 At_truck_location_(1,_0,_32) + 55 At_truck_location_(1,_0,_4) - 120 t1\n",
       " <= 0\n",
       "\n",
       "_C8: 150 At_truck_location_(0,_0,_0) + 150 At_truck_location_(0,_0,_32)\n",
       " + 150 At_truck_location_(0,_0,_4) + 150 At_truck_location_(1,_0,_0)\n",
       " + 150 At_truck_location_(1,_0,_32) + 150 At_truck_location_(1,_0,_4) - 350 t1\n",
       " <= 0\n",
       "\n",
       "_C9: 60 At_truck_location_(0,_1,_0) + 60 At_truck_location_(0,_1,_32)\n",
       " + 60 At_truck_location_(0,_1,_4) + 55 At_truck_location_(1,_1,_0)\n",
       " + 55 At_truck_location_(1,_1,_32) + 55 At_truck_location_(1,_1,_4) - 120 t2\n",
       " <= 0\n",
       "\n",
       "_C10: 150 At_truck_location_(0,_1,_0) + 150 At_truck_location_(0,_1,_32)\n",
       " + 150 At_truck_location_(0,_1,_4) + 150 At_truck_location_(1,_1,_0)\n",
       " + 150 At_truck_location_(1,_1,_32) + 150 At_truck_location_(1,_1,_4) - 350 t2\n",
       " <= 0\n",
       "\n",
       "_C11: 150 At_truck_location_(0,_0,_0) + 150 At_truck_location_(1,_0,_0)\n",
       " - 150 t1 <= 0\n",
       "\n",
       "_C12: 150 At_truck_location_(0,_0,_4) + 150 At_truck_location_(1,_0,_4)\n",
       " - 150 t1 <= 0\n",
       "\n",
       "_C13: 150 At_truck_location_(0,_0,_32) + 150 At_truck_location_(1,_0,_32)\n",
       " - 150 t1 <= 0\n",
       "\n",
       "_C14: 150 At_truck_location_(0,_1,_0) + 150 At_truck_location_(1,_1,_0)\n",
       " - 150 t2 <= 0\n",
       "\n",
       "_C15: 150 At_truck_location_(0,_1,_4) + 150 At_truck_location_(1,_1,_4)\n",
       " - 150 t2 <= 0\n",
       "\n",
       "_C16: 150 At_truck_location_(0,_1,_32) + 150 At_truck_location_(1,_1,_32)\n",
       " - 150 t2 <= 0\n",
       "\n",
       "_C17: 200 At_truck_location_(0,_0,_0) + 200 At_truck_location_(1,_0,_0)\n",
       " - 200 t1 <= 0\n",
       "\n",
       "_C18: 200 At_truck_location_(0,_0,_4) + 200 At_truck_location_(1,_0,_4)\n",
       " - 200 t1 <= 0\n",
       "\n",
       "_C19: 200 At_truck_location_(0,_0,_32) + 200 At_truck_location_(1,_0,_32)\n",
       " - 200 t1 <= 0\n",
       "\n",
       "_C20: 200 At_truck_location_(0,_1,_0) + 200 At_truck_location_(1,_1,_0)\n",
       " - 200 t2 <= 0\n",
       "\n",
       "_C21: 200 At_truck_location_(0,_1,_4) + 200 At_truck_location_(1,_1,_4)\n",
       " - 200 t2 <= 0\n",
       "\n",
       "_C22: 200 At_truck_location_(0,_1,_32) + 200 At_truck_location_(1,_1,_32)\n",
       " - 200 t2 <= 0\n",
       "\n",
       "VARIABLES\n",
       "0 <= At_truck_location_(0,_0,_0) <= 1 Integer\n",
       "0 <= At_truck_location_(0,_0,_32) <= 1 Integer\n",
       "0 <= At_truck_location_(0,_0,_4) <= 1 Integer\n",
       "0 <= At_truck_location_(0,_1,_0) <= 1 Integer\n",
       "0 <= At_truck_location_(0,_1,_32) <= 1 Integer\n",
       "0 <= At_truck_location_(0,_1,_4) <= 1 Integer\n",
       "0 <= At_truck_location_(1,_0,_0) <= 1 Integer\n",
       "0 <= At_truck_location_(1,_0,_32) <= 1 Integer\n",
       "0 <= At_truck_location_(1,_0,_4) <= 1 Integer\n",
       "0 <= At_truck_location_(1,_1,_0) <= 1 Integer\n",
       "0 <= At_truck_location_(1,_1,_32) <= 1 Integer\n",
       "0 <= At_truck_location_(1,_1,_4) <= 1 Integer\n",
       "0 <= t1 <= 1 Integer\n",
       "0 <= t2 <= 1 Integer"
      ]
     },
     "execution_count": 180,
     "metadata": {},
     "output_type": "execute_result"
    }
   ],
   "source": [
    "problem"
   ]
  },
  {
   "cell_type": "code",
   "execution_count": 181,
   "metadata": {},
   "outputs": [
    {
     "data": {
      "text/plain": [
       "1"
      ]
     },
     "execution_count": 181,
     "metadata": {},
     "output_type": "execute_result"
    }
   ],
   "source": [
    "problem.solve()"
   ]
  },
  {
   "cell_type": "code",
   "execution_count": 182,
   "metadata": {},
   "outputs": [
    {
     "name": "stdout",
     "output_type": "stream",
     "text": [
      "Total Trucks Used: 1\n"
     ]
    }
   ],
   "source": [
    "TOL = 0.00001\n",
    "truck_num = 0\n",
    "total_trucks_used = 0\n",
    "for j in data['total_truck_fleet']:\n",
    "    if y[j].varValue > TOL:\n",
    "        total_trucks_used += 1\n",
    "print(f\"Total Trucks Used: {total_trucks_used}\")"
   ]
  },
  {
   "cell_type": "code",
   "execution_count": 183,
   "metadata": {},
   "outputs": [
    {
     "name": "stdout",
     "output_type": "stream",
     "text": [
      "box_0_loaded_in_truck_0\n",
      "box_1_loaded_in_truck_0\n"
     ]
    }
   ],
   "source": [
    "for j in data['total_truck_fleet']:\n",
    "    for i in data['boxes']:\n",
    "        for k in [pymorton.interleave(i, j, k) for (i, j, k) in list_coordinates]:\n",
    "            if post_box_loaded[(i, j, k)].varValue > TOL:\n",
    "                print(f\"box_{i}_loaded_in_truck_{j}\")"
   ]
  },
  {
   "cell_type": "code",
   "execution_count": null,
   "metadata": {},
   "outputs": [],
   "source": []
  }
 ],
 "metadata": {
  "kernelspec": {
   "display_name": "neuralprophet",
   "language": "python",
   "name": "neuralprophet"
  },
  "language_info": {
   "codemirror_mode": {
    "name": "ipython",
    "version": 3
   },
   "file_extension": ".py",
   "mimetype": "text/x-python",
   "name": "python",
   "nbconvert_exporter": "python",
   "pygments_lexer": "ipython3",
   "version": "3.6.12"
  }
 },
 "nbformat": 4,
 "nbformat_minor": 4
}
