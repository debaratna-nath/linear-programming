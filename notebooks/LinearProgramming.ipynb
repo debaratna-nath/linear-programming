{
 "cells": [
  {
   "cell_type": "markdown",
   "metadata": {},
   "source": [
    "## What is Linear Programming?\n",
    "\n"
   ]
  },
  {
   "cell_type": "code",
   "execution_count": 1,
   "metadata": {
    "jupyter": {
     "source_hidden": true
    },
    "tags": []
   },
   "outputs": [
    {
     "data": {
      "text/html": [
       "\n",
       "        <iframe\n",
       "            width=\"1200\"\n",
       "            height=\"400\"\n",
       "            src=\"https://www.sciencedirect.com/topics/earth-and-planetary-sciences/linear-programming\"\n",
       "            frameborder=\"0\"\n",
       "            allowfullscreen\n",
       "        ></iframe>\n",
       "        "
      ],
      "text/plain": [
       "<IPython.lib.display.IFrame at 0x23f6b3cf048>"
      ]
     },
     "execution_count": 1,
     "metadata": {},
     "output_type": "execute_result"
    }
   ],
   "source": [
    "from IPython.display import IFrame\n",
    "IFrame(\"https://www.sciencedirect.com/topics/earth-and-planetary-sciences/linear-programming\", width = 1200, height = 400)"
   ]
  },
  {
   "cell_type": "markdown",
   "metadata": {},
   "source": [
    "\n",
    "For Exapmple:\n",
    "\n",
    "Maximise: $5X_{1} + 3X_{2}$ </br>\n",
    "Subject to:\n",
    "> $3X_{1} + X_{2} <= 3$ </br>\n",
    "> $X_{1} - X_{2} <= 5$"
   ]
  },
  {
   "cell_type": "markdown",
   "metadata": {},
   "source": [
    "***"
   ]
  },
  {
   "cell_type": "markdown",
   "metadata": {},
   "source": [
    "<b>Terminology</b>\n",
    "\n",
    " 1. <b>Objective Function: </b> The function that is to be maximised/minimised\n",
    " 2. <b>Decision Variables: </b> Controllable Inputs\n",
    " 3. <b>Parameters: </b> Uncontrollable inputs or constant numerical values\n",
    " 4. <b>Constraints: </b> What requirements must be met for optimising the objective function"
   ]
  },
  {
   "cell_type": "markdown",
   "metadata": {},
   "source": [
    "<b>How is an LP problem solved?</b>\n",
    "\n",
    "- Graphical Methods\n",
    "- Simplex Methods\n",
    "- Dual Simplex Methods\n",
    "- Branch and Cut (For Integer Linear Programming) etc.\n",
    "\n",
    "From coding perspective, there are many solvers available which can automatically solve these equations, using the above methods under the hood (like the CPLEX solver by IBM uses the simplex method for solving LP problems)\n",
    "</br>\n",
    "The main task is to formulate the business problem as an LP problem!"
   ]
  },
  {
   "cell_type": "markdown",
   "metadata": {},
   "source": [
    "$z = c_{1}x_{1} + c_{2}x_{2} + ... + c_{n}x_{n}$"
   ]
  },
  {
   "cell_type": "markdown",
   "metadata": {},
   "source": [
    "***"
   ]
  },
  {
   "cell_type": "markdown",
   "metadata": {},
   "source": [
    "<font color=red size=5>Formulating an LP problem is hard!</font>\n",
    "\n",
    "For e.g:\n",
    "\n",
    "Problem: Max $X$\n",
    "</br>\n",
    "Subject to: $X < 2$\n",
    "</br>\n",
    "\n",
    "This very simple problem has no solution"
   ]
  },
  {
   "cell_type": "markdown",
   "metadata": {},
   "source": [
    "<b>Another Example</b>\n",
    "\n",
    "Problem: Maximize $X_{2}$\n",
    "\n",
    "Subject to: \n",
    "> $X_{1} + X_{2} <= 2$\n",
    "</br>\n",
    "> $X_{1}^{2} <= 4$\n",
    "\n",
    "This problem may seem like it's not an LP problem due to the non-linear constraint, but <b>it is actually an LP problem</b>!"
   ]
  },
  {
   "cell_type": "markdown",
   "metadata": {
    "tags": []
   },
   "source": [
    "<b>How? </b>\n",
    "</br>\n",
    "Although it looks like a non-linear constraint, it can be equivalently written down as:\n",
    "</br>\n",
    "> $X_{1} >= -2, \n",
    " X_{2} <= 2$\n",
    " \n",
    "These indeed are linear constraints which can be solved using LP"
   ]
  },
  {
   "cell_type": "markdown",
   "metadata": {},
   "source": [
    "***"
   ]
  },
  {
   "cell_type": "markdown",
   "metadata": {},
   "source": [
    "#### Problem Statement\n",
    "\n",
    "Minimise the number of trucks required to carry a set of boxes by optimising the loading of the boxes onto the trucks.\n",
    "\n",
    "</br>\n",
    "\n",
    "</br>\n",
    "\n",
    "<b>What does \"optimal loading\" refer to? </b>\n",
    "\n",
    "- We load the boxes onto the trucks subject to the following constraints:\n",
    "   - The weight of the boxes loaded should not exceed the permissible  weight for the truck.\n",
    "   -  The volume of the boxes loaded should not exceed the total volume of the truck.\n",
    "   -  Every position in the truck will have a minimum permissible weight till which boxes can be stacked on top of each other on that position.\n",
    "   -  Only similar or lesser volume boxes are allowed to be stacked on a particular box\n",
    "   -  Rotational Constraints. Some boxes cannot be rotated along the axes, some boxes can only be rotated along the horizontal axis  <font color=red>(not addressed!)</font>\n",
    "   - Centre of Gravity related constraints etc.  <font color=red>(not addressed!)</font>"
   ]
  },
  {
   "cell_type": "markdown",
   "metadata": {},
   "source": [
    "***"
   ]
  },
  {
   "cell_type": "markdown",
   "metadata": {},
   "source": [
    "### Importing the Libaries"
   ]
  },
  {
   "cell_type": "code",
   "execution_count": 2,
   "metadata": {},
   "outputs": [],
   "source": [
    "import numpy as np\n",
    "import pandas as pd\n",
    "from pulp import *\n",
    "import math\n",
    "import itertools\n",
    "import pymorton"
   ]
  },
  {
   "cell_type": "markdown",
   "metadata": {},
   "source": [
    "### Sample Data and Truck Dimesions"
   ]
  },
  {
   "cell_type": "code",
   "execution_count": 3,
   "metadata": {},
   "outputs": [
    {
     "data": {
      "text/html": [
       "<div>\n",
       "<style scoped>\n",
       "    .dataframe tbody tr th:only-of-type {\n",
       "        vertical-align: middle;\n",
       "    }\n",
       "\n",
       "    .dataframe tbody tr th {\n",
       "        vertical-align: top;\n",
       "    }\n",
       "\n",
       "    .dataframe thead th {\n",
       "        text-align: right;\n",
       "    }\n",
       "</style>\n",
       "<table border=\"1\" class=\"dataframe\">\n",
       "  <thead>\n",
       "    <tr style=\"text-align: right;\">\n",
       "      <th></th>\n",
       "      <th>boxes</th>\n",
       "      <th>weight</th>\n",
       "      <th>length</th>\n",
       "      <th>breadth</th>\n",
       "      <th>height</th>\n",
       "      <th>volume</th>\n",
       "    </tr>\n",
       "  </thead>\n",
       "  <tbody>\n",
       "    <tr>\n",
       "      <th>0</th>\n",
       "      <td>0</td>\n",
       "      <td>150</td>\n",
       "      <td>200</td>\n",
       "      <td>150</td>\n",
       "      <td>60</td>\n",
       "      <td>1800000</td>\n",
       "    </tr>\n",
       "    <tr>\n",
       "      <th>1</th>\n",
       "      <td>1</td>\n",
       "      <td>150</td>\n",
       "      <td>200</td>\n",
       "      <td>150</td>\n",
       "      <td>55</td>\n",
       "      <td>1650000</td>\n",
       "    </tr>\n",
       "  </tbody>\n",
       "</table>\n",
       "</div>"
      ],
      "text/plain": [
       "   boxes  weight  length  breadth  height   volume\n",
       "0      0     150     200      150      60  1800000\n",
       "1      1     150     200      150      55  1650000"
      ]
     },
     "execution_count": 3,
     "metadata": {},
     "output_type": "execute_result"
    }
   ],
   "source": [
    "#Boxes Data\n",
    "\n",
    "data = pd.DataFrame()\n",
    "data['boxes'] = [0, 1]\n",
    "data['weight'] =[150, 150]\n",
    "\n",
    "\n",
    "data['length'] = [200, 200]\n",
    "data['breadth'] = [150, 150]\n",
    "data['height'] = [60, 55]\n",
    "data['volume'] = list(np.array(data['length']) * np.array(data['breadth']) * np.array(data['height']))\n",
    "#     df['truck_weight'] = 1000\n",
    "data.head()"
   ]
  },
  {
   "cell_type": "code",
   "execution_count": 4,
   "metadata": {},
   "outputs": [],
   "source": [
    "#Dimensions of truck, axes\n",
    "\n",
    "max_trucks = [i for i in range(data.shape[0])]\n",
    "length_of_truck = 200\n",
    "breadth_of_truck = 150\n",
    "height_of_truck = 120\n",
    "\n",
    "min_height = min(data['height'].values)\n",
    "min_breadth = min(data['breadth'].values)\n",
    "min_length = min(data['length'].values)\n",
    "volume_of_truck = length_of_truck * breadth_of_truck * height_of_truck\n",
    "weight_of_truck = 800\n",
    "x_axis = math.ceil(length_of_truck / min_length)\n",
    "y_axis = math.ceil(breadth_of_truck / min_breadth)\n",
    "z_axis = math.ceil(height_of_truck / min_height)\n",
    "\n",
    "max_weight_for_each_stack = 350"
   ]
  },
  {
   "cell_type": "markdown",
   "metadata": {},
   "source": [
    "### Defining the Decision Variables"
   ]
  },
  {
   "cell_type": "markdown",
   "metadata": {},
   "source": [
    "Two decision variables\n",
    "\n",
    " - $Y_{j}$ --> 1 if truck j is used, else 0\n",
    " - $X_{i, j, k}$ --> 1 if $box_{i}$ can be placed in $truck_{j}$ at position k, else 0"
   ]
  },
  {
   "cell_type": "markdown",
   "metadata": {},
   "source": [
    "1. For defining $Y_{j}$, we first consider it to be a maximum value (= number of boxes considering only one box fits in each truck), then minimise it as per our constraints!\n",
    "</br>\n",
    "2. For defining the position k inside a truck:\n",
    "    - Every position inside a truck can be expressed as a 3-dimensional (x, y, z) coordinate.\n",
    "    - We can define the decision variable like $X_{i,j,x,y,z}$ but this is inefficient and defining and solving the constraints will be much slower!\n",
    "    - So, we encode the (x,y,z) coordinates as a single k using <b>Morton Codes</b>\n",
    "    \n",
    "</br>"
   ]
  },
  {
   "cell_type": "markdown",
   "metadata": {},
   "source": [
    "### Morton Codes\n"
   ]
  },
  {
   "cell_type": "code",
   "execution_count": 5,
   "metadata": {
    "jupyter": {
     "source_hidden": true
    },
    "tags": []
   },
   "outputs": [
    {
     "data": {
      "text/html": [
       "\n",
       "        <iframe\n",
       "            width=\"1200\"\n",
       "            height=\"350\"\n",
       "            src=\"https://en.wikipedia.org/wiki/Z-order_curve\"\n",
       "            frameborder=\"0\"\n",
       "            allowfullscreen\n",
       "        ></iframe>\n",
       "        "
      ],
      "text/plain": [
       "<IPython.lib.display.IFrame at 0x23f6da85ac8>"
      ]
     },
     "execution_count": 5,
     "metadata": {},
     "output_type": "execute_result"
    }
   ],
   "source": [
    "\n",
    "IFrame(\"https://en.wikipedia.org/wiki/Z-order_curve\", width = 1200, height = 350)"
   ]
  },
  {
   "cell_type": "markdown",
   "metadata": {},
   "source": [
    "e.g:"
   ]
  },
  {
   "cell_type": "code",
   "execution_count": 6,
   "metadata": {},
   "outputs": [
    {
     "data": {
      "text/plain": [
       "53"
      ]
     },
     "execution_count": 6,
     "metadata": {},
     "output_type": "execute_result"
    }
   ],
   "source": [
    "pymorton.interleave(1,2,3)"
   ]
  },
  {
   "cell_type": "code",
   "execution_count": 7,
   "metadata": {},
   "outputs": [],
   "source": [
    "#Decision Variable -> y (if truck i is used or not)\n",
    "y = [LpVariable(\"t{0}\".format(i+1), cat=LpBinary) for i in max_trucks]\n",
    "\n",
    "#Decision Variablee -> boxes_loaded (1 if box i is loaded in truck j at position k)\n",
    "list_of_axes = [[x for x in range(x_axis)] , [y for y in range(y_axis)] , [z for z in range(z_axis)]]\n",
    "list_coordinates = list(itertools.product(*list_of_axes))\n",
    "box_loaded = LpVariable.dicts(\"At_truck_location\",\n",
    "                                   [(i,j, k) for i in data['boxes']\n",
    "                                    for j in max_trucks\n",
    "                                    for k in [pymorton.interleave(i, j, k) for (i, j, k) in list_coordinates]],\n",
    "                                   0, 1, LpBinary)"
   ]
  },
  {
   "cell_type": "markdown",
   "metadata": {},
   "source": [
    "### Define the Problem"
   ]
  },
  {
   "cell_type": "code",
   "execution_count": 8,
   "metadata": {},
   "outputs": [],
   "source": [
    "problem = LpProblem(\"truck_loading\", LpMinimize)"
   ]
  },
  {
   "cell_type": "markdown",
   "metadata": {},
   "source": [
    "### Define the Objective "
   ]
  },
  {
   "cell_type": "code",
   "execution_count": 9,
   "metadata": {},
   "outputs": [],
   "source": [
    "problem += lpSum([y[i] for i in max_trucks])"
   ]
  },
  {
   "cell_type": "code",
   "execution_count": 10,
   "metadata": {
    "tags": []
   },
   "outputs": [],
   "source": [
    "#problem"
   ]
  },
  {
   "cell_type": "markdown",
   "metadata": {},
   "source": [
    "##### Adding Constraints"
   ]
  },
  {
   "cell_type": "code",
   "execution_count": 11,
   "metadata": {},
   "outputs": [],
   "source": [
    "#For each box, it can be placed in only one truck\n",
    "\n",
    "for i in data['boxes']:\n",
    "    problem += lpSum(box_loaded[(i, j, k)] for j in max_trucks\n",
    "                 for k in [pymorton.interleave(i, j, k) for (i, j, k) in list_coordinates]) == 1"
   ]
  },
  {
   "cell_type": "code",
   "execution_count": 12,
   "metadata": {},
   "outputs": [],
   "source": [
    "#for each truck,\n",
    "#    summation of weight of all boxes should be less than total weight truck can carry\n",
    "#    summation of volume of all boxes should be less than volume of the truck\n",
    "\n",
    "\n",
    "for j in max_trucks:\n",
    "    problem += lpSum(box_loaded[(i, j, k)] * data['weight'][i] for i in data['boxes'] \n",
    "                    for k in [pymorton.interleave(i, j, k) for (i, j, k) in list_coordinates]) <= weight_of_truck * y[j]\n",
    "    problem += lpSum(box_loaded[(i, j, k)] * data['volume'][i] for i in data['boxes'] \n",
    "                    for k in [pymorton.interleave(i, j, k) for (i, j, k) in list_coordinates]) <= volume_of_truck * y[j]\n"
   ]
  },
  {
   "cell_type": "code",
   "execution_count": 13,
   "metadata": {},
   "outputs": [],
   "source": [
    "# for each truck,\n",
    "#     for each x,y point\n",
    "#         1. sum of all boxes placed along the z axis on that point should be less than height of truck\n",
    "#         2. weight of all boxes along a stack must be less than permissible weight\n",
    "\n",
    "\n",
    "for j in max_trucks:\n",
    "    for y_ in range(y_axis):\n",
    "        for x_ in range(x_axis):\n",
    "            problem += lpSum(box_loaded[(i, j, k)] * data['height'].iloc[i] for i in data['boxes'] \n",
    "                    for k in [pymorton.interleave(x_, y_, z_) for z_ in range(z_axis)]) <= height_of_truck * y[j]\n",
    "            \n",
    "            problem += lpSum(box_loaded[(i, j, k)] * data['weight'].iloc[i] for i in data['boxes'] \n",
    "                    for k in [pymorton.interleave(x_, y_, z_) for z_ in range(z_axis)]) <= max_weight_for_each_stack * y[j]\n",
    "            "
   ]
  },
  {
   "cell_type": "code",
   "execution_count": 14,
   "metadata": {},
   "outputs": [],
   "source": [
    "# for each truck,\n",
    "#     for each x,z point\n",
    "#         sum of all boxes placed along the y axis on that point should be less than width of truck\n",
    "\n",
    "\n",
    "for j in max_trucks:\n",
    "    for z_ in range(z_axis):\n",
    "        for x_ in range(x_axis):\n",
    "#             print([k for k in [pymorton.interleave(x, y, z_) for z_ in range(z_axis)]])\n",
    "            problem += lpSum(box_loaded[(i, j, k)] * data['breadth'].iloc[i] for i in data['boxes'] \n",
    "                    for k in [pymorton.interleave(x_, y_, z_) for y_ in range(y_axis)]) <= breadth_of_truck * y[j]"
   ]
  },
  {
   "cell_type": "code",
   "execution_count": 15,
   "metadata": {},
   "outputs": [],
   "source": [
    "# for each truck,\n",
    "#     for each y,z point\n",
    "#         sum of all boxes placed along the x axis on that point should be less than length of truck\n",
    "\n",
    "\n",
    "for j in max_trucks:\n",
    "    for z_ in range(z_axis):\n",
    "        for y_ in range(y_axis):\n",
    "#             print([k for k in [pymorton.interleave(x, y, z_) for z_ in range(z_axis)]])\n",
    "            problem += lpSum(box_loaded[(i, j, k)] * data['length'].iloc[i] for i in data['boxes'] \n",
    "                    for k in [pymorton.interleave(x_, y_, z_) for x_ in range(x_axis)]) <= length_of_truck * y[j]"
   ]
  },
  {
   "cell_type": "code",
   "execution_count": 16,
   "metadata": {
    "jupyter": {
     "source_hidden": true
    },
    "tags": []
   },
   "outputs": [],
   "source": [
    "# for j in max_trucks:\n",
    "#     for y_ in range(y_axis):\n",
    "#         for x_ in range(x_axis):\n",
    "#             for z_ in range(1, z_axis):\n",
    "#                 for i in range(data['boxes'].shape[0]):\n",
    "#                     k = pymorton.interleave(x_, y_, z_)\n",
    "#                     k_ = pymorton.interleave(x_, y_, z_-1)\n",
    "#                     problem += (box_loaded[(i, j, k_)] * data['length'].iloc[i] * data['breadth'].iloc[i])-(box_loaded[(i, j, k)] * data['length'].iloc[i] * data['breadth'].iloc[i]) >= 999999*(1-y[j]) "
   ]
  },
  {
   "cell_type": "code",
   "execution_count": 17,
   "metadata": {
    "tags": []
   },
   "outputs": [],
   "source": [
    "#problem"
   ]
  },
  {
   "cell_type": "code",
   "execution_count": 18,
   "metadata": {},
   "outputs": [
    {
     "data": {
      "text/plain": [
       "1"
      ]
     },
     "execution_count": 18,
     "metadata": {},
     "output_type": "execute_result"
    }
   ],
   "source": [
    "problem.solve()"
   ]
  },
  {
   "cell_type": "code",
   "execution_count": 19,
   "metadata": {},
   "outputs": [
    {
     "ename": "NameError",
     "evalue": "name 's' is not defined",
     "output_type": "error",
     "traceback": [
      "\u001b[1;31m---------------------------------------------------------------------------\u001b[0m",
      "\u001b[1;31mNameError\u001b[0m                                 Traceback (most recent call last)",
      "\u001b[1;32m<ipython-input-19-ded5ba42480f>\u001b[0m in \u001b[0;36m<module>\u001b[1;34m\u001b[0m\n\u001b[1;32m----> 1\u001b[1;33m \u001b[0ms\u001b[0m\u001b[1;33m\u001b[0m\u001b[1;33m\u001b[0m\u001b[0m\n\u001b[0m",
      "\u001b[1;31mNameError\u001b[0m: name 's' is not defined"
     ]
    }
   ],
   "source": [
    "s"
   ]
  },
  {
   "cell_type": "code",
   "execution_count": null,
   "metadata": {},
   "outputs": [],
   "source": [
    "TOL = 0.00001\n",
    "truck_num = 0\n",
    "total_trucks_used = 0\n",
    "for j in max_trucks:\n",
    "    if y[j].varValue > TOL:\n",
    "        total_trucks_used += 1\n",
    "print(f\"Total Trucks Used: {total_trucks_used}\")"
   ]
  },
  {
   "cell_type": "code",
   "execution_count": null,
   "metadata": {},
   "outputs": [],
   "source": [
    "for j in max_trucks:\n",
    "    if y[j].varValue > TOL:\n",
    "        print(f\"Truck_{j} Loads:\")\n",
    "    for i in data['boxes']:\n",
    "        \n",
    "        for k in [pymorton.interleave(i, j, k) for (i, j, k) in list_coordinates]:\n",
    "            \n",
    "            if box_loaded[(i, j, k)].varValue:\n",
    "                \n",
    "                print(f\"box_{i}_loaded_in_truck_{j}\")"
   ]
  },
  {
   "cell_type": "code",
   "execution_count": null,
   "metadata": {
    "tags": []
   },
   "outputs": [],
   "source": [
    "# problem"
   ]
  },
  {
   "cell_type": "code",
   "execution_count": null,
   "metadata": {
    "jupyter": {
     "source_hidden": true
    },
    "tags": []
   },
   "outputs": [],
   "source": [
    "class OptimiseBoxLoading:\n",
    "    def __init__(self):\n",
    "        pass\n",
    "    def define_parameters(self, df_truck, df_boxes):\n",
    "        length_of_truck = df_truck['truck_length'].iloc[0]\n",
    "        breadth_of_truck = df_truck['truck_width'].iloc[0]\n",
    "        height_of_truck = df_truck['truck_height'].iloc[0]\n",
    "        volume_of_truck = df_truck['truck_capacity'].iloc[0]\n",
    "        weight_of_truck = df_truck['truck_weight_limit'].iloc[0]\n",
    "\n",
    "        min_height = df_boxes['height'].min()\n",
    "        min_breadth = df_boxes['breadth'].min()\n",
    "        min_length = df_boxes['length'].min()\n",
    "        \n",
    "        x_axis = math.ceil(length_of_truck / min_length)\n",
    "        y_axis = math.ceil(breadth_of_truck / min_breadth)\n",
    "        z_axis = math.ceil(height_of_truck / min_height)\n",
    "        \n",
    "        self.max_trucks = [i for i in range(df_boxes.shape[0])]\n",
    "        \n",
    "        self.min_height = min_height\n",
    "        self.min_width = min_breadth\n",
    "        self.min_length = min_length\n",
    "        \n",
    "#         self.volume_of_truck = volume_of_truck\n",
    "#         self.weight_of_truck = weight_of_truck\n",
    "        \n",
    "        self.x_axis = x_axis\n",
    "        self.y_axis = y_axis\n",
    "        self.z_axis = z_axis\n",
    "        self.length_of_truck = length_of_truck\n",
    "        self.breadth_of_truck = breadth_of_truck\n",
    "        self.height_of_truck = height_of_truck\n",
    "        self.weight_of_truck = weight_of_truck\n",
    "        self.volume_of_truck = volume_of_truck\n",
    "        self.max_weight_for_each_stack = 350\n",
    "        \n",
    "        return self\n",
    "\n",
    "    def decision_variables(self, df_truck, df_boxes):\n",
    "        #Decision Variable -> y (if truck i is used or not)\n",
    "        y = [LpVariable(\"t{0}\".format(i+1), cat=LpBinary) for i in self.max_trucks]\n",
    "\n",
    "        #Decision Variablee -> boxes_loaded (1 if box i is loaded in truck j at position k)\n",
    "        list_of_axes = [[x for x in range(self.x_axis)] , [y for y in range(self.y_axis)] , [z for z in range(self.z_axis)]]\n",
    "        list_coordinates = list(itertools.product(*list_of_axes))\n",
    "        box_loaded = LpVariable.dicts(\"At_truck_location\",\n",
    "                                           [(i,j, k) for i in df_boxes['boxes']\n",
    "                                            for j in self.max_trucks\n",
    "                                            for k in [pymorton.interleave(i, j, k) for (i, j, k) in list_coordinates]],\n",
    "                                           0, 1, LpBinary)\n",
    "        list_coordinates = list_coordinates\n",
    "        return y, box_loaded, list_coordinates\n",
    "    \n",
    "    def build_constraints(self, df_boxes, problem, y, box_loaded, list_coordinates):\n",
    "        #For each box, it can be placed in only one truck\n",
    "        for i in df_boxes['boxes']:\n",
    "            problem += lpSum(box_loaded[(i, j, k)] for j in self.max_trucks\n",
    "                         for k in [pymorton.interleave(i, j, k) for (i, j, k) in list_coordinates]) == 1\n",
    "\n",
    "        #for each truck,\n",
    "        #    summation of weight of all boxes should be less than total weight truck can carry\n",
    "        #    summation of volume of all boxes should be less than volume of the truck\n",
    "        for j in self.max_trucks:\n",
    "            problem += lpSum(box_loaded[(i, j, k)] * df_boxes['weight'][i] for i in df_boxes['boxes'] \n",
    "                            for k in [pymorton.interleave(i, j, k) for (i, j, k) in list_coordinates]) <= self.weight_of_truck * y[j]\n",
    "            problem += lpSum(box_loaded[(i, j, k)] * df_boxes['volume'][i] for i in df_boxes['boxes'] \n",
    "                            for k in [pymorton.interleave(i, j, k) for (i, j, k) in list_coordinates]) <= self.volume_of_truck * y[j]\n",
    "\n",
    "        # for each truck,\n",
    "        #     for each x,y point\n",
    "        #         1. sum of all boxes placed along the z axis on that point should be less than height of truck\n",
    "        #         2. weight of all boxes along a stack must be less than permissible weight\n",
    "        #         3. surface area of a box must be less than or equal to that of the box placed below it\n",
    "        for j in self.max_trucks:\n",
    "            for y_ in range(self.y_axis):\n",
    "                for x_ in range(self.x_axis):\n",
    "                    problem += lpSum(box_loaded[(i, j, k)] * df_boxes['height'].iloc[i] for i in df_boxes['boxes'] \n",
    "                            for k in [pymorton.interleave(x_, y_, z_) for z_ in range(self.z_axis)]) <= self.height_of_truck * y[j]\n",
    "\n",
    "                    problem += lpSum(box_loaded[(i, j, k)] * df_boxes['weight'].iloc[i] for i in df_boxes['boxes'] \n",
    "                            for k in [pymorton.interleave(x_, y_, z_) for z_ in range(self.z_axis)]) <= self.max_weight_for_each_stack * y[j]\n",
    "\n",
    "        # for each truck,\n",
    "        #     for each x,z point\n",
    "        #         sum of all boxes placed along the y axis on that point should be less than width of truck\n",
    "        for j in self.max_trucks:\n",
    "            for z_ in range(self.z_axis):\n",
    "                for x_ in range(self.x_axis):\n",
    "        #             print([k for k in [pymorton.interleave(x, y, z_) for z_ in range(z_axis)]])\n",
    "                    problem += lpSum(box_loaded[(i, j, k)] * df_boxes['breadth'].iloc[i] for i in df_boxes['boxes'] \n",
    "                            for k in [pymorton.interleave(x_, y_, z_) for y_ in range(self.y_axis)]) <= self.breadth_of_truck * y[j]\n",
    "\n",
    "        # for each truck,\n",
    "        #     for each y,z point\n",
    "        #         sum of all boxes placed along the x axis on that point should be less than length of truck\n",
    "        for j in self.max_trucks:\n",
    "            for z_ in range(self.z_axis):\n",
    "                for y_ in range(self.y_axis):\n",
    "        #             print([k for k in [pymorton.interleave(x, y, z_) for z_ in range(z_axis)]])\n",
    "                    problem += lpSum(box_loaded[(i, j, k)] * df_boxes['length'].iloc[i] for i in df_boxes['boxes'] \n",
    "                            for k in [pymorton.interleave(x_, y_, z_) for x_ in range(self.x_axis)]) <= self.length_of_truck * y[j]\n",
    "            \n",
    "        return problem\n",
    "        \n",
    "        \n",
    "        \n",
    "    def optimize_loading(self, df_truck, df_boxes):\n",
    "        problem = LpProblem(\"truck_loading\", LpMinimize)\n",
    "        self.define_parameters(df_truck, df_boxes)\n",
    "        y, box_loaded, list_coordinates = self.decision_variables(df_truck, df_boxes)\n",
    "        problem += lpSum([y[i] for i in self.max_trucks])\n",
    "        problem = self.build_constraints(df_boxes, problem, y, box_loaded, list_coordinates)\n",
    "#         problem = self.problem\n",
    "        problem.solve()\n",
    "        \n",
    "        TOL = 0.00001\n",
    "        truck_num = 0\n",
    "        total_trucks_used = 0\n",
    "        for j in self.max_trucks:\n",
    "            if y[j].varValue > TOL:\n",
    "#                 print(f\"val of truck_{j} is {y[j].varValue}\")\n",
    "                total_trucks_used += 1\n",
    "        print(f\"Total Trucks Used: {total_trucks_used}\")\n",
    "        print(\"\\n\")\n",
    "        print(\"=\"* 100)\n",
    "        for j in self.max_trucks:\n",
    "\n",
    "            if y[j].varValue > TOL:\n",
    "                print(f\"Truck Number: {truck_num+1}\")\n",
    "                print(\"=\" * 100)\n",
    "                total_weight_loaded = 0\n",
    "                total_num_boxes = 0\n",
    "                total_volume_loaded = 0\n",
    "                for i in df_boxes['boxes']:\n",
    "                    for k in list_coordinates:\n",
    "                        x_ = k[0]\n",
    "                        y_ = k[1]\n",
    "                        z_ = k[2]\n",
    "                        if box_loaded[(i, j, pymorton.interleave3(x_, y_, z_))].varValue > TOL:\n",
    "                            total_num_boxes += 1\n",
    "                            total_weight_loaded += df_boxes['weight'][i]\n",
    "                            total_volume_loaded += df_boxes['volume'][i]\n",
    "                print(f'Total Boxes Loaded: {total_num_boxes}')\n",
    "                print(f\"Total Weight Loaded: {total_weight_loaded}\")\n",
    "                print(f\"Total Volume Loaded: {total_volume_loaded}\")\n",
    "                print(\"-\" * 80)\n",
    "\n",
    "#                 for i in data['boxes']:\n",
    "#                     if boxes_loaded[(i, j)].varValue > TOL:\n",
    "\n",
    "#                         box_num = data['boxes'][i]\n",
    "#                         len_ = data['length'][i]\n",
    "#                         br_ = data['breadth'][i]\n",
    "#                         hei_ = data['height'][i]\n",
    "#                         wt_ = data['weight'][i]\n",
    "#                         print(f\"\\t Box Number: {box_num}\", f\"\\t Dimensions of Box: {len_, br_, hei_}\", f\"\\t Weight of Box: {wt_}\", sep = \"\\n\")\n",
    "#                         print(\"-\" * 80)\n",
    "        #         print (\"Truck \", j, \" holds \", \\\n",
    "        #         [i for i in data['boxes']\n",
    "        #         if boxes_loaded[(i, j)].varValue > TOL])\n",
    "                print(\"=\" * 100)\n",
    "                truck_num+= 1"
   ]
  },
  {
   "cell_type": "code",
   "execution_count": null,
   "metadata": {
    "tags": []
   },
   "outputs": [],
   "source": [
    "prob = OptimiseBoxLoading()"
   ]
  },
  {
   "cell_type": "markdown",
   "metadata": {},
   "source": [
    "#### 1. Normal Boxes\n",
    "Should fit in 1 truck!"
   ]
  },
  {
   "cell_type": "code",
   "execution_count": null,
   "metadata": {},
   "outputs": [],
   "source": [
    "#Boxes Data\n",
    "\n",
    "data = pd.DataFrame()\n",
    "data['boxes'] = [0, 1]\n",
    "data['weight'] =[150, 150]\n",
    "\n",
    "\n",
    "data['length'] = [200, 200]\n",
    "data['breadth'] = [150, 150]\n",
    "data['height'] = [60, 60]\n",
    "data['volume'] = list(np.array(data['length']) * np.array(data['breadth']) * np.array(data['height']))\n",
    "#     df['truck_weight'] = 1000\n",
    "data.head()\n"
   ]
  },
  {
   "cell_type": "code",
   "execution_count": null,
   "metadata": {},
   "outputs": [],
   "source": [
    "truck_dict =dict({'truck_length': [200],\n",
    "            'truck_width': [150],\n",
    "            'truck_height': [120],\n",
    "            'truck_weight_limit': [800],\n",
    "            'truck_capacity': [200 * 150 * 120],\n",
    "            'truck_name': 'truck'})\n",
    "truck_df = pd.DataFrame.from_dict(truck_dict, orient = 'columns')\n",
    "truck_df.head()"
   ]
  },
  {
   "cell_type": "code",
   "execution_count": null,
   "metadata": {
    "tags": []
   },
   "outputs": [],
   "source": [
    "prob.optimize_loading(truck_df, data)"
   ]
  },
  {
   "cell_type": "markdown",
   "metadata": {},
   "source": [
    "#### 2. Boxes which exceed total weight in a stack constraint\n",
    "Should require 2 trucks!"
   ]
  },
  {
   "cell_type": "code",
   "execution_count": null,
   "metadata": {
    "tags": []
   },
   "outputs": [],
   "source": [
    "#Boxes Data\n",
    "\n",
    "data = pd.DataFrame()\n",
    "data['boxes'] = [0, 1]\n",
    "data['weight'] =[201, 150]\n",
    "\n",
    "\n",
    "data['length'] = [200, 200]\n",
    "data['breadth'] = [150, 150]\n",
    "data['height'] = [60, 55]\n",
    "data['volume'] = list(np.array(data['length']) * np.array(data['breadth']) * np.array(data['height']))\n",
    "#     df['truck_weight'] = 1000\n",
    "data.head()"
   ]
  },
  {
   "cell_type": "code",
   "execution_count": null,
   "metadata": {
    "tags": []
   },
   "outputs": [],
   "source": [
    "prob.optimize_loading(truck_df, data)"
   ]
  },
  {
   "cell_type": "markdown",
   "metadata": {},
   "source": [
    "#### 3. Boxes which exceed the truck's length constraint\n",
    "Should require 2 trucks!"
   ]
  },
  {
   "cell_type": "code",
   "execution_count": null,
   "metadata": {
    "tags": []
   },
   "outputs": [],
   "source": [
    "#Boxes Data\n",
    "\n",
    "data = pd.DataFrame()\n",
    "data['boxes'] = [0, 1]\n",
    "data['weight'] =[100, 150]\n",
    "\n",
    "\n",
    "data['length'] = [100, 110]\n",
    "data['breadth'] = [150, 150]\n",
    "data['height'] = [120, 120]\n",
    "data['volume'] = list(np.array(data['length']) * np.array(data['breadth']) * np.array(data['height']))\n",
    "#     df['truck_weight'] = 1000\n",
    "data.head()"
   ]
  },
  {
   "cell_type": "code",
   "execution_count": null,
   "metadata": {
    "tags": []
   },
   "outputs": [],
   "source": [
    "prob.optimize_loading(truck_df, data)"
   ]
  },
  {
   "cell_type": "markdown",
   "metadata": {},
   "source": [
    "#### Testing For an arbitrary number of boxes"
   ]
  },
  {
   "cell_type": "code",
   "execution_count": null,
   "metadata": {},
   "outputs": [],
   "source": [
    "df = pd.DataFrame()\n",
    "df['weight'] =[100] * 15 + [120]* 10\n",
    "df['boxes'] = [i for i in range(len(df['weight']))]\n",
    "\n",
    "df['length'] = [150] * 15 + [100] * 10\n",
    "df['breadth'] = [100] * 15 + [80] * 10\n",
    "df['height'] = [80] * 15 + [80] * 10\n",
    "df['volume'] = list(np.array(df['length']) * np.array(df['breadth']) * np.array(df['height']))"
   ]
  },
  {
   "cell_type": "code",
   "execution_count": null,
   "metadata": {},
   "outputs": [],
   "source": [
    "df.head(2)"
   ]
  },
  {
   "cell_type": "code",
   "execution_count": null,
   "metadata": {},
   "outputs": [],
   "source": [
    "truck_dict =dict({'truck_length': [400],\n",
    "            'truck_width': [280],\n",
    "            'truck_height': [200],\n",
    "            'truck_weight_limit': [1500],\n",
    "            'truck_capacity': [400 * 280 * 200],\n",
    "            'truck_name': 'truck'})\n",
    "truck_df = pd.DataFrame.from_dict(truck_dict, orient = 'columns')\n",
    "truck_df.head()"
   ]
  },
  {
   "cell_type": "code",
   "execution_count": null,
   "metadata": {},
   "outputs": [],
   "source": [
    "import datetime"
   ]
  },
  {
   "cell_type": "code",
   "execution_count": null,
   "metadata": {},
   "outputs": [],
   "source": [
    "time1 = datetime.datetime.now()"
   ]
  },
  {
   "cell_type": "code",
   "execution_count": null,
   "metadata": {},
   "outputs": [],
   "source": [
    "prob.optimize_loading(truck_df, df)"
   ]
  },
  {
   "cell_type": "code",
   "execution_count": null,
   "metadata": {},
   "outputs": [],
   "source": [
    "time2 = datetime.datetime.now()"
   ]
  },
  {
   "cell_type": "code",
   "execution_count": null,
   "metadata": {},
   "outputs": [],
   "source": [
    "print(time2 - time1)"
   ]
  },
  {
   "cell_type": "code",
   "execution_count": null,
   "metadata": {
    "tags": []
   },
   "outputs": [],
   "source": [
    "problem"
   ]
  },
  {
   "cell_type": "code",
   "execution_count": null,
   "metadata": {},
   "outputs": [],
   "source": []
  }
 ],
 "metadata": {
  "kernelspec": {
   "display_name": "neuralprophet",
   "language": "python",
   "name": "neuralprophet"
  },
  "language_info": {
   "codemirror_mode": {
    "name": "ipython",
    "version": 3
   },
   "file_extension": ".py",
   "mimetype": "text/x-python",
   "name": "python",
   "nbconvert_exporter": "python",
   "pygments_lexer": "ipython3",
   "version": "3.6.12"
  }
 },
 "nbformat": 4,
 "nbformat_minor": 4
}
